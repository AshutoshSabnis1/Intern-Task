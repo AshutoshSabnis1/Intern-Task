{
 "cells": [
  {
   "cell_type": "code",
   "execution_count": null,
   "id": "b5ecede0",
   "metadata": {},
   "outputs": [],
   "source": [
    "class ToDoList:\n",
    "    def __init__(self):\n",
    "        self.tasks = []\n",
    "\n",
    "    def add_task(self, task):\n",
    "        self.tasks.append({'task': task, 'completed': False})\n",
    "\n",
    "    def delete_task(self, index):\n",
    "        del self.tasks[index]\n",
    "\n",
    "    def mark_completed(self, index):\n",
    "        self.tasks[index]['completed'] = True\n",
    "\n",
    "    def display_tasks(self):\n",
    "        for i, task in enumerate(self.tasks):\n",
    "            status = \"Completed\" if task['completed'] else \"Pending\"\n",
    "            print(f\"{i + 1}. {task['task']} - {status}\")\n",
    "\n",
    "\n",
    "def main():\n",
    "    todo_list = ToDoList()\n",
    "\n",
    "    while True:\n",
    "        print(\"\\nTo-Do List Application\")\n",
    "        print(\"1. Add Task\")\n",
    "        print(\"2. Delete Task\")\n",
    "        print(\"3. Mark Task as Completed\")\n",
    "        print(\"4. Display Tasks\")\n",
    "        print(\"5. Exit\")\n",
    "\n",
    "        choice = input(\"Enter your choice: \")\n",
    "\n",
    "        if choice == '1':\n",
    "            task = input(\"Enter task: \")\n",
    "            todo_list.add_task(task)\n",
    "        elif choice == '2':\n",
    "            index = int(input(\"Enter index of task to delete: \")) - 1\n",
    "            todo_list.delete_task(index)\n",
    "        elif choice == '3':\n",
    "            index = int(input(\"Enter index of task to mark as completed: \")) - 1\n",
    "            todo_list.mark_completed(index)\n",
    "        elif choice == '4':\n",
    "            todo_list.display_tasks()\n",
    "        elif choice == '5':\n",
    "            break\n",
    "        else:\n",
    "            print(\"Invalid choice. Please enter a number between 1 and 5.\")\n",
    "\n",
    "\n",
    "if __name__ == \"__main__\":\n",
    "    main()\n"
   ]
  }
 ],
 "metadata": {
  "kernelspec": {
   "display_name": "Python 3 (ipykernel)",
   "language": "python",
   "name": "python3"
  },
  "language_info": {
   "codemirror_mode": {
    "name": "ipython",
    "version": 3
   },
   "file_extension": ".py",
   "mimetype": "text/x-python",
   "name": "python",
   "nbconvert_exporter": "python",
   "pygments_lexer": "ipython3",
   "version": "3.11.4"
  }
 },
 "nbformat": 4,
 "nbformat_minor": 5
}
