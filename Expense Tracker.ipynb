{
 "cells": [
  {
   "cell_type": "code",
   "execution_count": null,
   "id": "3c667d74",
   "metadata": {},
   "outputs": [],
   "source": [
    "# 1.\tExpense Tracker:\n",
    "# Build an expense tracking system where users can input their daily expenses, categorize them, and view spending patterns over time.\n",
    "\n",
    "import datetime\n",
    "\n",
    "class ExpenseTracker:\n",
    "    def __init__(self):\n",
    "        self.expenses = []\n",
    "\n",
    "    def add_expense(self, amount, category):\n",
    "        today = datetime.date.today()\n",
    "        self.expenses.append({'date': today, 'amount': amount, 'category': category})\n",
    "\n",
    "    def view_expenses(self):\n",
    "        for expense in self.expenses:\n",
    "            print(f\"Date: {expense['date']} | Amount: {expense['amount']} | Category: {expense['category']}\")\n",
    "\n",
    "\n",
    "def main():\n",
    "    expense_tracker = ExpenseTracker()\n",
    "\n",
    "    while True:\n",
    "        print(\"\\nExpense Tracker\")\n",
    "        print(\"1. Add Expense\")\n",
    "        print(\"2. View Expenses\")\n",
    "        print(\"3. Exit\")\n",
    "\n",
    "        choice = input(\"Enter your choice: \")\n",
    "\n",
    "        if choice == '1':\n",
    "            amount = float(input(\"Enter amount: \"))\n",
    "            category = input(\"Enter category: \")\n",
    "            expense_tracker.add_expense(amount, category)\n",
    "            print(\"Expense added successfully!\")\n",
    "        elif choice == '2':\n",
    "            print(\"\\nAll Expenses:\")\n",
    "            expense_tracker.view_expenses()\n",
    "        elif choice == '3':\n",
    "            break\n",
    "        else:\n",
    "            print(\"Invalid choice. Please enter a number between 1 and 3.\")\n",
    "\n",
    "\n",
    "if __name__ == \"__main__\":\n",
    "    main()\n"
   ]
  }
 ],
 "metadata": {
  "kernelspec": {
   "display_name": "Python 3 (ipykernel)",
   "language": "python",
   "name": "python3"
  },
  "language_info": {
   "codemirror_mode": {
    "name": "ipython",
    "version": 3
   },
   "file_extension": ".py",
   "mimetype": "text/x-python",
   "name": "python",
   "nbconvert_exporter": "python",
   "pygments_lexer": "ipython3",
   "version": "3.11.4"
  }
 },
 "nbformat": 4,
 "nbformat_minor": 5
}
