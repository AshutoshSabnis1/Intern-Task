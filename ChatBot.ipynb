{
 "cells": [
  {
   "cell_type": "code",
   "execution_count": null,
   "id": "76009448",
   "metadata": {},
   "outputs": [],
   "source": [
    "# 1.\tChatbot:\n",
    "# Develop a simple chatbot using natural language processing libraries. The chatbot should be able to answer basic questions and engage in a conversation\n",
    "\n",
    "\n",
    "import nltk\n",
    "from nltk.chat.util import Chat, reflections\n",
    "\n",
    "# Define patterns and responses for the chatbot\n",
    "patterns = [\n",
    "    (r'hi|hello|hey', ['Hello!', 'Hi there!', 'Hey!']),\n",
    "    (r'how are you?', ['I am good, thank you!', 'I\\'m doing well, thanks!']),\n",
    "    (r'what is your name?', ['You can call me ChatBot.', 'I am ChatBot.']),\n",
    "    (r'quit', ['Bye! Take care.', 'Goodbye!']),\n",
    "    # Add more patterns and responses as needed\n",
    "]\n",
    "\n",
    "# Create a chatbot using the Chat class\n",
    "chatbot = Chat(patterns, reflections)\n",
    "\n",
    "def main():\n",
    "    print(\"Welcome to the ChatBot. Type 'quit' to exit.\")\n",
    "    while True:\n",
    "        user_input = input(\"You: \")\n",
    "        response = chatbot.respond(user_input)\n",
    "        print(\"ChatBot:\", response)\n",
    "        if user_input.lower() == 'quit':\n",
    "            break\n",
    "\n",
    "if __name__ == \"__main__\":\n",
    "    main()\n"
   ]
  }
 ],
 "metadata": {
  "kernelspec": {
   "display_name": "Python 3 (ipykernel)",
   "language": "python",
   "name": "python3"
  },
  "language_info": {
   "codemirror_mode": {
    "name": "ipython",
    "version": 3
   },
   "file_extension": ".py",
   "mimetype": "text/x-python",
   "name": "python",
   "nbconvert_exporter": "python",
   "pygments_lexer": "ipython3",
   "version": "3.11.4"
  }
 },
 "nbformat": 4,
 "nbformat_minor": 5
}
